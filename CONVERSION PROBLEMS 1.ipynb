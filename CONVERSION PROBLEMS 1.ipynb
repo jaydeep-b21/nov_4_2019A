{
 "cells": [
  {
   "cell_type": "markdown",
   "metadata": {},
   "source": [
    "# (1) Convert miles to kilometers."
   ]
  },
  {
   "cell_type": "markdown",
   "metadata": {},
   "source": [
    "HINT: I am telling you just one thing:\n",
    "\n",
    "1 mile = 1.609344 kilometers\n",
    "\n",
    "Now, think what you can do with this information."
   ]
  },
  {
   "cell_type": "code",
   "execution_count": null,
   "metadata": {},
   "outputs": [],
   "source": [
    "miles = float(input(\"Enter distance in miles: \"))\n",
    "kilometers = miles*1.609344\n",
    "print(\"Distance in Kilometers:\", kilometers)"
   ]
  },
  {
   "cell_type": "markdown",
   "metadata": {},
   "source": [
    "# (2) Take the temperature in degrees Celsius and convert it to Fahrenheit."
   ]
  },
  {
   "cell_type": "markdown",
   "metadata": {},
   "source": [
    "HINT: To convert degrees Celsius temperature to Fahrenheit, you have to multiply by 9 and divide by 5.\n",
    "\n",
    "And then, add 32.\n",
    "\n",
    "Think for a second...How will you multiply a variable by 9 and then divide by 5? and then add 32. Can you do it without looking at the solution?"
   ]
  },
  {
   "cell_type": "code",
   "execution_count": null,
   "metadata": {},
   "outputs": [],
   "source": [
    "celsius = float(input(\"Enter temperature in degrees Celsius: \"))\n",
    " \n",
    "fahrenheit = celsius*9/5+32\n",
    " \n",
    "print(\"Temperature in Fahrenheit:\", fahrenheit)"
   ]
  },
  {
   "cell_type": "markdown",
   "metadata": {},
   "source": [
    "# (3) Convert a decimal number to binary number."
   ]
  },
  {
   "cell_type": "markdown",
   "metadata": {},
   "source": [
    "HINT: To convert a decimal number to a binary number, you have to keep dividing the number by 2.\n",
    "\n",
    "While dividing, you will keep the remainder. These remainders will be used to build a binary number.\n",
    "\n",
    "Then, reverse the order of the reminder, to get the binary number."
   ]
  },
  {
   "cell_type": "code",
   "execution_count": null,
   "metadata": {},
   "outputs": [],
   "source": [
    "def dec_to_binary(n):\n",
    "    bits = []\n",
    "    while n > 0:\n",
    "        bits.append(n%2)\n",
    "        n = n // 2\n",
    "    bits.reverse()\n",
    "    binary = ''\n",
    "    for bit in bits:\n",
    "        binary += str(bit)\n",
    "    return binary\n",
    "\n",
    "\n",
    "num = int(input(\"Your decimal number: \"))\n",
    "binary = dec_to_binary(num)\n",
    "print(\"Your binary is:\", binary)"
   ]
  },
  {
   "cell_type": "markdown",
   "metadata": {},
   "source": [
    "EXPLANATION:"
   ]
  },
  {
   "cell_type": "raw",
   "metadata": {},
   "source": [
    "bits = [ ]\n",
    "while n > 0:\n",
    "    bits.append(n%2)\n",
    "    n = n // 2"
   ]
  },
  {
   "cell_type": "markdown",
   "metadata": {},
   "source": [
    "The reminder is n%2. And, the result(floor division) of dividing by two is n//2.\n",
    "\n",
    "Rest is simple.\n",
    "\n",
    "You reverse the bits array by calling bits.reverse().\n",
    "\n",
    "After reverse, you have the digits of the binary. To display the binary bits as one number, you can declare a string called binary.\n",
    "\n",
    "Then, run a for loop over your bits array and join the binary bit as a string.\n",
    "\n",
    "We used the str method to convert number to a string. If we didn’t convert the digit to a string, it will be added as a number.\n",
    "\n",
    "That’s why, '1'+'1'+'1'+'0'+'0'+'1' will become '111001'. If you didn’t convert each digit to string it will become 4 (1+1+1+0+0+1)\n",
    "\n",
    "Try to read this explanation and code multiple times. And, if needed, come back again and again. We don’t expect you to understand everything in your first try.\n",
    "\n",
    "If you keep trying and revisiting , again and again, these will start making sense."
   ]
  },
  {
   "cell_type": "markdown",
   "metadata": {},
   "source": [
    "# (4) Convert a decimal number to binary number using a recursive function."
   ]
  },
  {
   "cell_type": "markdown",
   "metadata": {},
   "source": [
    "HINT: After coding for a while, recursive will become fun. Until then, recursive functions might feel like confusing magic.\n",
    "\n",
    "So, don’t worry if you felt confused. You are not alone. I am in the same condition as well."
   ]
  },
  {
   "cell_type": "code",
   "execution_count": null,
   "metadata": {},
   "outputs": [],
   "source": [
    "def dec_to_binary(n):\n",
    "    if n > 1:\n",
    "        dec_to_binary(n//2)\n",
    "    print(n % 2,end = '')\n",
    "num = int(input(\"Your decimal number: \"))\n",
    "dec_to_binary(num)\n",
    "print(\" \")"
   ]
  },
  {
   "cell_type": "markdown",
   "metadata": {},
   "source": [
    "EXPLANATION:"
   ]
  },
  {
   "cell_type": "markdown",
   "metadata": {},
   "source": [
    "The core part of the logic is simple. If the number is greater than 1, call the dec_to_binary function again. And, while calling, send the result of dividing operation as the input number.\n",
    "\n",
    "If you remember, the while loop in the previous code problem is similar. In the while loop, we were going back to the next iteration with n = n//2\n",
    "\n",
    "Here we are calling the same function with the n//2\n",
    "\n",
    "In the previous code problem (iterative), we are putting the remainder in a list. Here, we are printing it right away.\n",
    "\n",
    "While printing, we have one extra thing called end=''. The purpose of end='' is to print the output in the same line. If you don’t add end='', every print output will be displayed in a new line."
   ]
  },
  {
   "cell_type": "markdown",
   "metadata": {},
   "source": [
    "# (5) Convert a binary number to decimal number"
   ]
  },
  {
   "cell_type": "code",
   "execution_count": null,
   "metadata": {},
   "outputs": [],
   "source": [
    "b_num = list(input(\"Input a binary number: \"))\n",
    "value = 0\n",
    "\n",
    "for i in range(len(b_num)):\n",
    "    digit = b_num.pop()\n",
    "    if digit == '1':\n",
    "        value = value + pow(2, i)\n",
    "print(\"The decimal value of the number is\", value)"
   ]
  },
  {
   "cell_type": "code",
   "execution_count": null,
   "metadata": {},
   "outputs": [],
   "source": []
  }
 ],
 "metadata": {
  "kernelspec": {
   "display_name": "Python 3",
   "language": "python",
   "name": "python3"
  },
  "language_info": {
   "codemirror_mode": {
    "name": "ipython",
    "version": 3
   },
   "file_extension": ".py",
   "mimetype": "text/x-python",
   "name": "python",
   "nbconvert_exporter": "python",
   "pygments_lexer": "ipython3",
   "version": "3.7.3"
  }
 },
 "nbformat": 4,
 "nbformat_minor": 2
}
